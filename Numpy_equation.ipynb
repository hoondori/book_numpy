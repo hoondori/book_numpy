{
 "cells": [
  {
   "cell_type": "code",
   "execution_count": 33,
   "metadata": {},
   "outputs": [],
   "source": [
    "import numpy as np\n",
    "import matplotlib.pyplot as plt\n",
    "%matplotlib inline"
   ]
  },
  {
   "cell_type": "markdown",
   "metadata": {},
   "source": [
    "# Contents\n",
    "\n",
    "* polynomial 표현 \n",
    "  * poly1d\n",
    "* root를 주고 polynomial을 구하기   \n",
    "  * poly\n",
    "* 선형회귀\n",
    "  * polyfit  \n",
    "* 연립 방정식 풀기 \n",
    "  * linalg.solve\n",
    "  * linalg.lstsq"
   ]
  },
  {
   "cell_type": "markdown",
   "metadata": {},
   "source": [
    "## polynomial 표현 \n",
    "\n",
    "* poly1d\n",
    "* polyval"
   ]
  },
  {
   "cell_type": "code",
   "execution_count": 4,
   "metadata": {},
   "outputs": [
    {
     "data": {
      "text/plain": [
       "poly1d([ 1, -2,  1])"
      ]
     },
     "execution_count": 4,
     "metadata": {},
     "output_type": "execute_result"
    }
   ],
   "source": [
    "p = np.poly1d([1,-2,1])\n",
    "p"
   ]
  },
  {
   "cell_type": "code",
   "execution_count": 5,
   "metadata": {},
   "outputs": [
    {
     "name": "stdout",
     "output_type": "stream",
     "text": [
      "   2\n",
      "1 x - 2 x + 1\n"
     ]
    }
   ],
   "source": [
    "print(p)    # 다항식 표현 "
   ]
  },
  {
   "cell_type": "code",
   "execution_count": 6,
   "metadata": {},
   "outputs": [
    {
     "data": {
      "text/plain": [
       "'x'"
      ]
     },
     "execution_count": 6,
     "metadata": {},
     "output_type": "execute_result"
    }
   ],
   "source": [
    "p.variable  # 다항식 변수"
   ]
  },
  {
   "cell_type": "code",
   "execution_count": 8,
   "metadata": {},
   "outputs": [
    {
     "data": {
      "text/plain": [
       "2"
      ]
     },
     "execution_count": 8,
     "metadata": {},
     "output_type": "execute_result"
    }
   ],
   "source": [
    "p.order # 다항식 차수"
   ]
  },
  {
   "cell_type": "code",
   "execution_count": 10,
   "metadata": {},
   "outputs": [
    {
     "data": {
      "text/plain": [
       "array([ 1, -2,  1])"
      ]
     },
     "execution_count": 10,
     "metadata": {},
     "output_type": "execute_result"
    }
   ],
   "source": [
    "p.coef # 다항식 계수"
   ]
  },
  {
   "cell_type": "code",
   "execution_count": 11,
   "metadata": {},
   "outputs": [
    {
     "data": {
      "text/plain": [
       "array([1., 1.])"
      ]
     },
     "execution_count": 11,
     "metadata": {},
     "output_type": "execute_result"
    }
   ],
   "source": [
    "p.roots  # 방정식의 해 "
   ]
  },
  {
   "cell_type": "code",
   "execution_count": 19,
   "metadata": {},
   "outputs": [
    {
     "name": "stdout",
     "output_type": "stream",
     "text": [
      "4\n"
     ]
    }
   ],
   "source": [
    "# 다항식  evaluation\n",
    "\n",
    "evaled = np.polyval([1,-2,1],3)\n",
    "print(evaled)\n",
    "\n",
    "assert evaled == 1*(3**2) -2*(3) + 1"
   ]
  },
  {
   "cell_type": "code",
   "execution_count": 26,
   "metadata": {},
   "outputs": [
    {
     "name": "stdout",
     "output_type": "stream",
     "text": [
      " \n",
      "2 x\n",
      "   2\n",
      "1 x - 4\n"
     ]
    }
   ],
   "source": [
    "# 다항식끼리 연산 \n",
    "\n",
    "p = np.poly1d([1,2]) + np.poly1d([1,-2])    # (x+2)+(x-2) = 2x\n",
    "print(p)\n",
    "\n",
    "p = np.poly1d([1,2]) * np.poly1d([1,-2])    # (x+2)*(x-2) = x^2 - 4\n",
    "print(p)"
   ]
  },
  {
   "cell_type": "code",
   "execution_count": 21,
   "metadata": {},
   "outputs": [
    {
     "name": "stdout",
     "output_type": "stream",
     "text": [
      " \n",
      "1 x + 2\n"
     ]
    }
   ],
   "source": [
    "# "
   ]
  },
  {
   "cell_type": "code",
   "execution_count": 22,
   "metadata": {},
   "outputs": [
    {
     "name": "stdout",
     "output_type": "stream",
     "text": [
      "[ 1.  1. -2.]\n"
     ]
    }
   ],
   "source": [
    "print(np.poly([1,-2]))"
   ]
  },
  {
   "cell_type": "code",
   "execution_count": 23,
   "metadata": {},
   "outputs": [
    {
     "data": {
      "text/plain": [
       "array([ 1.,  1., -2.])"
      ]
     },
     "execution_count": 23,
     "metadata": {},
     "output_type": "execute_result"
    }
   ],
   "source": [
    "np.poly([1,-2])"
   ]
  },
  {
   "cell_type": "markdown",
   "metadata": {},
   "source": [
    "## root를 주고 polynomial을 구하기   "
   ]
  },
  {
   "cell_type": "code",
   "execution_count": 29,
   "metadata": {},
   "outputs": [
    {
     "name": "stdout",
     "output_type": "stream",
     "text": [
      " \n",
      "1 x - 1\n"
     ]
    }
   ],
   "source": [
    "root = [1]\n",
    "coeff = np.poly(root)    \n",
    "print(np.poly1d(coeff))"
   ]
  },
  {
   "cell_type": "code",
   "execution_count": 31,
   "metadata": {},
   "outputs": [
    {
     "name": "stdout",
     "output_type": "stream",
     "text": [
      "   2\n",
      "1 x - 2 x + 1\n"
     ]
    }
   ],
   "source": [
    "root = [1, 1]\n",
    "coeff = np.poly(root)\n",
    "print(np.poly1d(coeff))"
   ]
  },
  {
   "cell_type": "code",
   "execution_count": 32,
   "metadata": {},
   "outputs": [
    {
     "name": "stdout",
     "output_type": "stream",
     "text": [
      "   3     2\n",
      "1 x - 3 x + 3 x - 1\n"
     ]
    }
   ],
   "source": [
    "root = [1,1,1]\n",
    "coeff = np.poly(root)\n",
    "print(np.poly1d(coeff))"
   ]
  },
  {
   "cell_type": "markdown",
   "metadata": {},
   "source": [
    "## 선형회귀\n",
    "\n",
    "* polyfit"
   ]
  },
  {
   "cell_type": "code",
   "execution_count": 35,
   "metadata": {},
   "outputs": [],
   "source": [
    "# 노이즈 섞인 직선 생성\n",
    "\n",
    "x = np.arange(0, 10, 0.01)     \n",
    "y = 3*x + 5\n",
    "y_noise = y + np.random.randn(len(y))"
   ]
  },
  {
   "cell_type": "code",
   "execution_count": 37,
   "metadata": {},
   "outputs": [
    {
     "name": "stdout",
     "output_type": "stream",
     "text": [
      " \n",
      "2.982 x + 5.086\n"
     ]
    }
   ],
   "source": [
    "# 선형 회귀선\n",
    "deg = 1\n",
    "fitted = np.polyfit(x, y_noise, deg)\n",
    "p = np.poly1d(fitted)\n",
    "print(p)"
   ]
  },
  {
   "cell_type": "code",
   "execution_count": 38,
   "metadata": {},
   "outputs": [
    {
     "data": {
      "image/png": "[encoded data removed]",
      "text/plain": [
       "<Figure size 720x432 with 2 Axes>"
      ]
     },
     "metadata": {
      "needs_background": "light"
     },
     "output_type": "display_data"
    }
   ],
   "source": [
    "fig, axes = plt.subplots(1, 2, figsize=(10,6))\n",
    "\n",
    "axes[0].plot(x, y_noise, label='noise', color='y')\n",
    "axes[0].plot(x, y, ls='dashed', lw=3, color='b', label='original')\n",
    "axes[0].legend()\n",
    "axes[0].grid()\n",
    "\n",
    "axes[1].plot(x, y_noise, label='noise', color='y')\n",
    "axes[1].plot(x, p(x), lw=2, color='r', label='polyfit')\n",
    "axes[1].legend()\n",
    "axes[1].grid()\n",
    "\n",
    "plt.show()"
   ]
  },
  {
   "cell_type": "markdown",
   "metadata": {},
   "source": [
    "## 연립 방정식 풀기\n",
    "\n",
    "* linalg.solve"
   ]
  },
  {
   "cell_type": "code",
   "execution_count": 39,
   "metadata": {},
   "outputs": [],
   "source": [
    "# 3*x0 + x1 = 9\n",
    "# x0 + 2*x1 = 8\n",
    "\n",
    "A = np.array([[3,1], [1,2]])\n",
    "b = np.array([9,8])"
   ]
  },
  {
   "cell_type": "code",
   "execution_count": 42,
   "metadata": {},
   "outputs": [
    {
     "data": {
      "text/plain": [
       "array([2., 3.])"
      ]
     },
     "execution_count": 42,
     "metadata": {},
     "output_type": "execute_result"
    }
   ],
   "source": [
    "x = np.linalg.solve(A,b)\n",
    "x"
   ]
  },
  {
   "cell_type": "code",
   "execution_count": 44,
   "metadata": {},
   "outputs": [
    {
     "data": {
      "text/plain": [
       "True"
      ]
     },
     "execution_count": 44,
     "metadata": {},
     "output_type": "execute_result"
    }
   ],
   "source": [
    "np.allclose(np.dot(A,x), b)  # 검증"
   ]
  },
  {
   "cell_type": "code",
   "execution_count": 45,
   "metadata": {},
   "outputs": [],
   "source": [
    "# 1*x0  +  0*x1  +  0*x2 = 0\n",
    "# 1*x0  +  1*x1  +  1*x2 = 24\n",
    "# 6*x0  +  7*x1  +  0*x2 = 0\n",
    "\n",
    "A = np.array([[1,0,0], [1,1,1], [6,7,0]])\n",
    "b = np.array([0,24,0])"
   ]
  },
  {
   "cell_type": "code",
   "execution_count": 46,
   "metadata": {},
   "outputs": [
    {
     "data": {
      "text/plain": [
       "array([ 0., -0., 24.])"
      ]
     },
     "execution_count": 46,
     "metadata": {},
     "output_type": "execute_result"
    }
   ],
   "source": [
    "x = np.linalg.solve(A,b)\n",
    "x"
   ]
  },
  {
   "cell_type": "code",
   "execution_count": 47,
   "metadata": {},
   "outputs": [
    {
     "data": {
      "text/plain": [
       "True"
      ]
     },
     "execution_count": 47,
     "metadata": {},
     "output_type": "execute_result"
    }
   ],
   "source": [
    "np.allclose(np.dot(A,x), b)  # 검증"
   ]
  },
  {
   "cell_type": "code",
   "execution_count": 50,
   "metadata": {},
   "outputs": [
    {
     "data": {
      "text/plain": [
       "array([ 0.,  0., 24.])"
      ]
     },
     "execution_count": 50,
     "metadata": {},
     "output_type": "execute_result"
    }
   ],
   "source": [
    "# 역행렬로 풀어보기 \n",
    "\n",
    "A_inv = np.linalg.inv(A)\n",
    "np.dot(A_inv, b)"
   ]
  },
  {
   "cell_type": "markdown",
   "metadata": {},
   "source": [
    "## least square solution으로 풀어보기 \n",
    "\n",
    "* linalg.lstsq "
   ]
  },
  {
   "cell_type": "code",
   "execution_count": 51,
   "metadata": {},
   "outputs": [],
   "source": [
    "# 1*x0  +  0*x1  +  0*x2 = 0\n",
    "# 1*x0  +  1*x1  +  1*x2 = 24\n",
    "# 6*x0  +  7*x1  +  0*x2 = 0\n",
    "\n",
    "A = np.array([[1,0,0], [1,1,1], [6,7,0]])\n",
    "b = np.array([0,24,0])"
   ]
  },
  {
   "cell_type": "code",
   "execution_count": 54,
   "metadata": {},
   "outputs": [
    {
     "data": {
      "text/plain": [
       "array([ 0., -0., 24.])"
      ]
     },
     "execution_count": 54,
     "metadata": {},
     "output_type": "execute_result"
    }
   ],
   "source": [
    "solved = np.linalg.solve(A,b)\n",
    "solved"
   ]
  },
  {
   "cell_type": "code",
   "execution_count": 52,
   "metadata": {},
   "outputs": [],
   "source": [
    "x, residual, rank, singular = np.linalg.lstsq(A, b, rcond=-1)   # rcond : Cut-off ratio for small singular values"
   ]
  },
  {
   "cell_type": "code",
   "execution_count": 56,
   "metadata": {},
   "outputs": [
    {
     "data": {
      "text/plain": [
       "True"
      ]
     },
     "execution_count": 56,
     "metadata": {},
     "output_type": "execute_result"
    }
   ],
   "source": [
    "np.allclose(x, solved)  # solve로 푼 것과 lstsq로 푼 것이 동일 "
   ]
  }
 ],
 "metadata": {
  "kernelspec": {
   "display_name": "Python (ai)",
   "language": "python",
   "name": "ai"
  },
  "language_info": {
   "codemirror_mode": {
    "name": "ipython",
    "version": 3
   },
   "file_extension": ".py",
   "mimetype": "text/x-python",
   "name": "python",
   "nbconvert_exporter": "python",
   "pygments_lexer": "ipython3",
   "version": "3.6.12"
  },
  "toc": {
   "base_numbering": 1,
   "nav_menu": {},
   "number_sections": true,
   "sideBar": true,
   "skip_h1_title": false,
   "title_cell": "Table of Contents",
   "title_sidebar": "Contents",
   "toc_cell": false,
   "toc_position": {},
   "toc_section_display": true,
   "toc_window_display": false
  }
 },
 "nbformat": 4,
 "nbformat_minor": 4
}
