{
 "cells": [
  {
   "cell_type": "code",
   "execution_count": 1,
   "metadata": {},
   "outputs": [],
   "source": [
    "import numpy as np"
   ]
  },
  {
   "cell_type": "markdown",
   "metadata": {},
   "source": [
    "# ndarray의 함수와 np 내의 함수와의 비교\n",
    "\n",
    "* 기능은 똑같고 정의 위치만 다를 뿐 "
   ]
  },
  {
   "cell_type": "code",
   "execution_count": 3,
   "metadata": {},
   "outputs": [
    {
     "data": {
      "text/plain": [
       "array([[0, 0],\n",
       "       [0, 0]])"
      ]
     },
     "execution_count": 3,
     "metadata": {},
     "output_type": "execute_result"
    }
   ],
   "source": [
    "x = np.zeros((2,2), dtype=np.int_)\n",
    "x"
   ]
  },
  {
   "cell_type": "code",
   "execution_count": 10,
   "metadata": {},
   "outputs": [
    {
     "data": {
      "text/plain": [
       "False"
      ]
     },
     "execution_count": 10,
     "metadata": {},
     "output_type": "execute_result"
    }
   ],
   "source": [
    "(x != 0).any() # ndarray의 any 호출 "
   ]
  },
  {
   "cell_type": "code",
   "execution_count": 9,
   "metadata": {},
   "outputs": [
    {
     "data": {
      "text/plain": [
       "False"
      ]
     },
     "execution_count": 9,
     "metadata": {},
     "output_type": "execute_result"
    }
   ],
   "source": [
    "np.any( x != 0) # np.any 호출 "
   ]
  },
  {
   "cell_type": "code",
   "execution_count": 11,
   "metadata": {},
   "outputs": [
    {
     "data": {
      "text/plain": [
       "<function ndarray.any>"
      ]
     },
     "execution_count": 11,
     "metadata": {},
     "output_type": "execute_result"
    }
   ],
   "source": [
    "(x != 0).any"
   ]
  },
  {
   "cell_type": "code",
   "execution_count": 12,
   "metadata": {},
   "outputs": [
    {
     "data": {
      "text/plain": [
       "<function numpy.any(a, axis=None, out=None, keepdims=<no value>)>"
      ]
     },
     "execution_count": 12,
     "metadata": {},
     "output_type": "execute_result"
    }
   ],
   "source": [
    "np.any"
   ]
  },
  {
   "cell_type": "code",
   "execution_count": 18,
   "metadata": {},
   "outputs": [
    {
     "name": "stdout",
     "output_type": "stream",
     "text": [
      "common size: 47\n"
     ]
    },
    {
     "data": {
      "text/plain": [
       "['size', 'argmin', 'var', 'cumsum', 'dot']"
      ]
     },
     "execution_count": 18,
     "metadata": {},
     "output_type": "execute_result"
    }
   ],
   "source": [
    "# ndarray 함수들과 np 함수들의 공통된 것 찾아보기 \n",
    "\n",
    "np_ = set(dir(np))\n",
    "nd_ = set(dir(np.ndarray))\n",
    "npd_ = np_ & nd_\n",
    "print(f'common size: {len(npd_)}')\n",
    "list(npd_)[:5]"
   ]
  },
  {
   "cell_type": "markdown",
   "metadata": {},
   "source": [
    "# np 내에 유니버셜 함수(ufunc) check"
   ]
  },
  {
   "cell_type": "code",
   "execution_count": 30,
   "metadata": {},
   "outputs": [
    {
     "name": "stdout",
     "output_type": "stream",
     "text": [
      "abs  absolute  add  arccos  arccosh  arcsin  arcsinh  arctan  arctan2  arctanh  \n",
      "bitwise_and  bitwise_not  bitwise_or  bitwise_xor  cbrt  ceil  conj  conjugate  copysign  cos  \n",
      "cosh  deg2rad  degrees  divide  divmod  equal  exp  exp2  expm1  fabs  \n",
      "float_power  floor  floor_divide  fmax  fmin  fmod  frexp  gcd  greater  greater_equal  \n",
      "heaviside  hypot  invert  isfinite  isinf  isnan  isnat  lcm  ldexp  left_shift  \n",
      "less  less_equal  log  log10  log1p  log2  logaddexp  logaddexp2  logical_and  logical_not  \n",
      "logical_or  logical_xor  matmul  maximum  minimum  mod  modf  multiply  negative  nextafter  \n",
      "not_equal  positive  power  rad2deg  radians  reciprocal  remainder  right_shift  rint  sign  \n",
      "signbit  sin  sinh  spacing  sqrt  square  subtract  tan  tanh  true_divide  \n",
      "trunc  "
     ]
    }
   ],
   "source": [
    "a = dir(np)\n",
    "\n",
    "count = 0\n",
    "for i in a:\n",
    "    if i == \"Tester\":\n",
    "        continue\n",
    "    if type(np.__dict__[i]) == np.ufunc:\n",
    "        print(i, end=\"  \")\n",
    "        count += 1\n",
    "        if count % 10 == 0:\n",
    "            print()"
   ]
  },
  {
   "cell_type": "markdown",
   "metadata": {},
   "source": [
    "# np 내에서 일반 함수(FunctionType) check"
   ]
  },
  {
   "cell_type": "code",
   "execution_count": 29,
   "metadata": {},
   "outputs": [
    {
     "name": "stdout",
     "output_type": "stream",
     "text": [
      "add_newdoc  alen  all  allclose  alltrue  amax  amin  angle  any  append  \n",
      "apply_along_axis  apply_over_axes  argmax  argmin  argpartition  argsort  argwhere  around  array2string  array_equal  \n",
      "array_equiv  array_repr  array_split  array_str  asanyarray  asarray  asarray_chkfinite  ascontiguousarray  asfarray  asfortranarray  \n",
      "asmatrix  asscalar  atleast_1d  atleast_2d  atleast_3d  average  bartlett  base_repr  binary_repr  bincount  \n",
      "blackman  block  bmat  broadcast_arrays  broadcast_to  busday_count  busday_offset  byte_bounds  can_cast  choose  \n",
      "clip  column_stack  common_type  compress  concatenate  convolve  copy  copyto  corrcoef  correlate  \n",
      "count_nonzero  cov  cross  cumprod  cumproduct  cumsum  datetime_as_string  delete  deprecate  deprecate_with_doc  \n",
      "diag  diag_indices  diag_indices_from  diagflat  diagonal  diff  digitize  disp  dot  dsplit  \n",
      "dstack  ediff1d  einsum  einsum_path  empty_like  expand_dims  extract  eye  fill_diagonal  find_common_type  \n",
      "fix  flatnonzero  flip  fliplr  flipud  format_float_positional  format_float_scientific  fromfunction  fromregex  full  \n",
      "full_like  fv  genfromtxt  geomspace  get_array_wrap  get_include  get_printoptions  getbufsize  geterr  geterrcall  \n",
      "gradient  hamming  hanning  histogram  histogram2d  histogram_bin_edges  histogramdd  hsplit  hstack  i0  \n",
      "identity  imag  in1d  indices  info  inner  insert  interp  intersect1d  ipmt  \n",
      "irr  is_busday  isclose  iscomplex  iscomplexobj  isfortran  isin  isneginf  isposinf  isreal  \n",
      "isrealobj  isscalar  issctype  issubclass_  issubdtype  issubsctype  iterable  ix_  kaiser  kron  \n",
      "lexsort  linspace  load  loads  loadtxt  logspace  lookfor  mafromtxt  mask_indices  mat  \n",
      "max  maximum_sctype  may_share_memory  mean  median  meshgrid  min  min_scalar_type  mintypecode  mirr  \n",
      "moveaxis  msort  nan_to_num  nanargmax  nanargmin  nancumprod  nancumsum  nanmax  nanmean  nanmedian  \n",
      "nanmin  nanpercentile  nanprod  nanquantile  nanstd  nansum  nanvar  ndfromtxt  ndim  nonzero  \n",
      "nper  npv  obj2sctype  ones  ones_like  outer  packbits  pad  partition  percentile  \n",
      "piecewise  place  pmt  poly  polyadd  polyder  polydiv  polyfit  polyint  polymul  \n",
      "polysub  polyval  ppmt  printoptions  prod  product  ptp  put  put_along_axis  putmask  \n",
      "pv  quantile  rate  ravel  ravel_multi_index  real  real_if_close  recfromcsv  recfromtxt  repeat  \n",
      "require  reshape  resize  result_type  roll  rollaxis  roots  rot90  round  round_  \n",
      "row_stack  safe_eval  save  savetxt  savez  savez_compressed  sctype2char  searchsorted  select  set_printoptions  \n",
      "set_string_function  setbufsize  setdiff1d  seterr  seterrcall  setxor1d  shape  shares_memory  show_config  sinc  \n",
      "size  sometrue  sort  sort_complex  source  split  squeeze  stack  std  sum  \n",
      "swapaxes  take  take_along_axis  tensordot  tile  trace  transpose  trapz  tri  tril  \n",
      "tril_indices  tril_indices_from  trim_zeros  triu  triu_indices  triu_indices_from  typename  union1d  unique  unpackbits  \n",
      "unravel_index  unwrap  vander  var  vdot  vsplit  vstack  where  who  zeros_like  \n"
     ]
    }
   ],
   "source": [
    "import types \n",
    "\n",
    "a = dir(np)\n",
    "\n",
    "count = 0\n",
    "for i in a:\n",
    "    if i == \"Tester\":\n",
    "        continue\n",
    "    if type(np.__dict__[i]) == types.FunctionType:\n",
    "        print(i, end=\"  \")\n",
    "        count += 1\n",
    "        if count % 10 == 0:\n",
    "            print()"
   ]
  },
  {
   "cell_type": "code",
   "execution_count": null,
   "metadata": {},
   "outputs": [],
   "source": []
  }
 ],
 "metadata": {
  "kernelspec": {
   "display_name": "Python (ai)",
   "language": "python",
   "name": "ai"
  },
  "language_info": {
   "codemirror_mode": {
    "name": "ipython",
    "version": 3
   },
   "file_extension": ".py",
   "mimetype": "text/x-python",
   "name": "python",
   "nbconvert_exporter": "python",
   "pygments_lexer": "ipython3",
   "version": "3.6.12"
  },
  "toc": {
   "base_numbering": 1,
   "nav_menu": {},
   "number_sections": true,
   "sideBar": true,
   "skip_h1_title": false,
   "title_cell": "Table of Contents",
   "title_sidebar": "Contents",
   "toc_cell": false,
   "toc_position": {},
   "toc_section_display": true,
   "toc_window_display": false
  }
 },
 "nbformat": 4,
 "nbformat_minor": 4
}
